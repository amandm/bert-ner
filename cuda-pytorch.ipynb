{
 "cells": [
  {
   "cell_type": "code",
   "execution_count": null,
   "id": "e2cb9165-3531-40de-8afd-ab574ed972d5",
   "metadata": {},
   "outputs": [],
   "source": []
  }
 ],
 "metadata": {
  "kernelspec": {
   "display_name": "",
   "name": ""
  },
  "language_info": {
   "name": ""
  }
 },
 "nbformat": 4,
 "nbformat_minor": 5
}
